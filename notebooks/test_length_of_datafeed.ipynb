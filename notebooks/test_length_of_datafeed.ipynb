{
 "cells": [
  {
   "cell_type": "code",
   "execution_count": 25,
   "metadata": {},
   "outputs": [],
   "source": [
    "import backtrader as bt\n",
    "import datetime\n",
    "import pdb"
   ]
  },
  {
   "cell_type": "code",
   "execution_count": 32,
   "metadata": {},
   "outputs": [],
   "source": [
    "diff_secs = [\n",
    "    (\"FB\", datetime.datetime(2012, 1, 1)),\n",
    "#    (\"TSLA\", datetime.datetime(2019, 6, 1)),\n",
    " #   (\"NVDA\", datetime.datetime(2019, 7, 1)),\n",
    " #   (\"MSFT\", datetime.datetime(2019, 8, 1)),\n",
    "]"
   ]
  },
  {
   "cell_type": "code",
   "execution_count": 35,
   "metadata": {},
   "outputs": [],
   "source": [
    "# Strategy\n",
    "# Create a Stratey\n",
    "MONTHLY_INVESTMENT = 200\n",
    "class TestStrategy(bt.Strategy):\n",
    "\n",
    "    def log(self, txt, dt=None):\n",
    "        ''' Logging function fot this strategy'''\n",
    "        dt = dt or self.datas[0].datetime.date(0)\n",
    "        print('%s, %s' % (dt.isoformat(), txt))\n",
    "\n",
    "    def __init__(self):\n",
    "        for d in self.datas:\n",
    "            print(\"stock {}, length: {}\".format(d._name,len(d.array)))\n",
    "            print ('min {}, max {}'.format(min(d.array),max(d.array)))\n",
    "        "
   ]
  },
  {
   "cell_type": "code",
   "execution_count": 36,
   "metadata": {},
   "outputs": [
    {
     "name": "stdout",
     "output_type": "stream",
     "text": [
      "stock FB, length: 2046\n",
      "min 17.73, max 242.24\n"
     ]
    }
   ],
   "source": [
    "cerebro = bt.Cerebro()\n",
    "cerebro.addstrategy(TestStrategy)\n",
    "\n",
    "cerebro.broker.setcash(100.0)\n",
    "\n",
    "for co in diff_secs:\n",
    "    data = bt.feeds.YahooFinanceData(\n",
    "        dataname=co[0],\n",
    "        fromdate=co[1],\n",
    "        todate=datetime.datetime(2020, 7, 8),\n",
    "    )\n",
    "    cerebro.adddata(data)\n",
    "\n",
    "\n",
    "\n",
    "results = cerebro.run()"
   ]
  },
  {
   "cell_type": "code",
   "execution_count": 20,
   "metadata": {},
   "outputs": [
    {
     "data": {
      "text/plain": [
       "1"
      ]
     },
     "execution_count": 20,
     "metadata": {},
     "output_type": "execute_result"
    }
   ],
   "source": [
    "min([1,2,3])"
   ]
  },
  {
   "cell_type": "code",
   "execution_count": 37,
   "metadata": {},
   "outputs": [
    {
     "data": {
      "text/plain": [
       "datetime.datetime(2014, 12, 1, 0, 0)"
      ]
     },
     "execution_count": 37,
     "metadata": {},
     "output_type": "execute_result"
    }
   ],
   "source": [
    "datetime.datetime(2020, 7, 8) - datetime.timedelta(2046)"
   ]
  },
  {
   "cell_type": "code",
   "execution_count": null,
   "metadata": {},
   "outputs": [],
   "source": []
  }
 ],
 "metadata": {
  "kernelspec": {
   "display_name": "Python 3",
   "language": "python",
   "name": "python3"
  },
  "language_info": {
   "codemirror_mode": {
    "name": "ipython",
    "version": 3
   },
   "file_extension": ".py",
   "mimetype": "text/x-python",
   "name": "python",
   "nbconvert_exporter": "python",
   "pygments_lexer": "ipython3",
   "version": "3.5.5"
  }
 },
 "nbformat": 4,
 "nbformat_minor": 4
}
